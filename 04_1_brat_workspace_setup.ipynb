{
 "cells": [
  {
   "cell_type": "markdown",
   "metadata": {},
   "source": [
    "## Workspace setup\n",
    "\n",
    "We are using the brat annotation tool to practice setting up a manual annotation project. Brat is a browser-based tool that requires text files to be placed in a folder within a brat directory. To avoid annotation conflict with other students, you need to create your workspace within the BRAT directory. \n",
    "\n",
    "This notebook demonstrates how to run bash commands within the Jupyter notebook. \n",
    "\n",
    "To avoid any unintentional file manipulations, please set variable \"unid\" (university ID) to your github username. That will be the name of your workspace."
   ]
  },
  {
   "cell_type": "code",
   "execution_count": 1,
   "metadata": {},
   "outputs": [],
   "source": [
    "# Set variable unid to your github username\n",
    "\n",
    "unid = \"wwchapman\""
   ]
  },
  {
   "cell_type": "markdown",
   "metadata": {},
   "source": [
    "Let's take a look what is currently in the BRAT directory"
   ]
  },
  {
   "cell_type": "code",
   "execution_count": 4,
   "metadata": {},
   "outputs": [
    {
     "name": "stderr",
     "output_type": "stream",
     "text": [
      "ls: /Users/wendy/BRAT/: No such file or directory\n"
     ]
    }
   ],
   "source": [
    "%%bash ls -l ~/BRAT/"
   ]
  },
  {
   "cell_type": "markdown",
   "metadata": {},
   "source": [
    "Now let's create your directory"
   ]
  },
  {
   "cell_type": "code",
   "execution_count": 6,
   "metadata": {},
   "outputs": [
    {
     "name": "stdout",
     "output_type": "stream",
     "text": [
      "total 0\n",
      "drwxr-xr-x   3 wendy  staff   96 Jul  8 17:37 .\n",
      "drwxr-xr-x+ 24 wendy  staff  768 Jul  8 17:37 ..\n",
      "drwxr-xr-x   2 wendy  staff   64 Jul  8 17:37 wwchapman\n"
     ]
    }
   ],
   "source": [
    "%%bash  -s \"$unid\"\n",
    "mkdir -p ~/BRAT/$1\n",
    "\n",
    "ls -la ~/BRAT/"
   ]
  },
  {
   "cell_type": "markdown",
   "metadata": {},
   "source": [
    "Your workspace directory is now created. Let's take a look what is inside the directory that you just created."
   ]
  },
  {
   "cell_type": "code",
   "execution_count": 7,
   "metadata": {},
   "outputs": [
    {
     "name": "stdout",
     "output_type": "stream",
     "text": [
      "/Users/wendy/BRAT/wwchapman/\n"
     ]
    }
   ],
   "source": [
    "%%bash  -s \"$unid\"\n",
    "echo ~/BRAT/$1/\n",
    "ls ~/BRAT/$1 "
   ]
  },
  {
   "cell_type": "markdown",
   "metadata": {},
   "source": [
    " Now let's copy the Example project into your workspace so that you can work with these files without interfering with other students."
   ]
  },
  {
   "cell_type": "code",
   "execution_count": 8,
   "metadata": {},
   "outputs": [
    {
     "name": "stderr",
     "output_type": "stream",
     "text": [
      "cp: /Users/wendy/BRAT/Example_projects/Example: No such file or directory\n"
     ]
    }
   ],
   "source": [
    "%%bash -s \"$unid\"\n",
    "cp -r ~/BRAT/Example_projects/Example  ~/BRAT/$1"
   ]
  },
  {
   "cell_type": "markdown",
   "metadata": {},
   "source": [
    "Let's check if the files got copied."
   ]
  },
  {
   "cell_type": "code",
   "execution_count": null,
   "metadata": {},
   "outputs": [],
   "source": [
    "%%bash  -s \"$unid\"\n",
    "echo ~/BRAT/$1/*\n",
    "ls   ~/BRAT/$1/ "
   ]
  },
  {
   "cell_type": "markdown",
   "metadata": {},
   "source": [
    "There is a new folder in the directory. "
   ]
  },
  {
   "cell_type": "code",
   "execution_count": null,
   "metadata": {},
   "outputs": [],
   "source": [
    "%%bash  -s \"$unid\"\n",
    "echo ~/BRAT/$1/Example \n",
    "ls  ~/BRAT/$1/Example "
   ]
  },
  {
   "cell_type": "markdown",
   "metadata": {},
   "source": [
    "And now your workspace has a new directory with files."
   ]
  },
  {
   "cell_type": "markdown",
   "metadata": {},
   "source": [
    "### There are many annotation tools you can use - they all have pros and cons\n",
    "![image.png](./Slide_pngs/Slide19.png)"
   ]
  },
  {
   "cell_type": "code",
   "execution_count": null,
   "metadata": {},
   "outputs": [],
   "source": []
  }
 ],
 "metadata": {
  "kernelspec": {
   "display_name": "Python 3",
   "language": "python",
   "name": "python3"
  },
  "language_info": {
   "codemirror_mode": {
    "name": "ipython",
    "version": 3
   },
   "file_extension": ".py",
   "mimetype": "text/x-python",
   "name": "python",
   "nbconvert_exporter": "python",
   "pygments_lexer": "ipython3",
   "version": "3.5.5"
  }
 },
 "nbformat": 4,
 "nbformat_minor": 2
}
