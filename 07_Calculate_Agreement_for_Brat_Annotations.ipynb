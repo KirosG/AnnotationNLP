{
 "cells": [
  {
   "cell_type": "markdown",
   "metadata": {},
   "source": [
    "# Calculating Agreement for Brat annotations\n",
    "\n",
    "Now we have your annotations ready and have learned the agreement formulas, let's try some exercises to calculate the agreement betwee each other.\n",
    "\n",
    "Although the formulas are simple, efficiently getting the numbers in the contingency table is not trivial. We have provided an optimized function for you here (If you are interested how we implemented it, check [here](./compare_utils.py). ). Let's try it out.\n"
   ]
  },
  {
   "cell_type": "code",
   "execution_count": null,
   "metadata": {},
   "outputs": [],
   "source": [
    "# import packages\n",
    "import os\n",
    "from compare_utils import compare_projects"
   ]
  },
  {
   "cell_type": "markdown",
   "metadata": {},
   "source": [
    "## 1. Initiate the directories\n",
    "\n",
    "First, we need to tell compare who against who. In Brat, annotations are saved in directories, thus the question is equivalent to compare which directory against which.\n",
    "\n",
    "If you are not sure what directories you should look for, check the list here:\n",
    "https://brat.jupyter.med.utah.edu/#/student_folders/"
   ]
  },
  {
   "cell_type": "code",
   "execution_count": null,
   "metadata": {},
   "outputs": [],
   "source": [
    "# tell where is the projects located\n",
    "annotator_a='YOU PROJECT NAME'\n",
    "annotator_b='unannotated'"
   ]
  },
  {
   "cell_type": "code",
   "execution_count": null,
   "metadata": {},
   "outputs": [],
   "source": [
    "# convert the project name to real directory path\n",
    "\n",
    "brat_projects_loc=os.path.abspath('../../BRAT')\n",
    "annotator_a=os.path.join(brat_projects_loc, annotator_a)\n",
    "annotator_b=os.path.join(brat_projects_loc, annotator_b)\n",
    "\n",
    "# you could try to print annotator_a and annotator_b out to see where they are"
   ]
  },
  {
   "cell_type": "markdown",
   "metadata": {},
   "source": [
    "## 2. Strict compare\n",
    "\n",
    "**compare_projects** is the function that we wrapped up the meat in. It takes in 2~3 paramters:\n",
    "1. Your directory \n",
    "2. The directory that you want to compare against\n",
    "3. compare method ('strict' or 'relax')\n",
    "\n",
    "It turns a dictionary of evaluators with annotation types as the key, an Evaluator as the value. The Evaluator class will contain all the numbers in the contingency table we need."
   ]
  },
  {
   "cell_type": "code",
   "execution_count": null,
   "metadata": {},
   "outputs": [],
   "source": [
    "evaluators = compare_projects(annotator_a, annotator_b, 'strict')"
   ]
  },
  {
   "cell_type": "code",
   "execution_count": null,
   "metadata": {},
   "outputs": [],
   "source": []
  }
 ],
 "metadata": {
  "kernelspec": {
   "display_name": "Python 3",
   "language": "python",
   "name": "python3"
  },
  "language_info": {
   "codemirror_mode": {
    "name": "ipython",
    "version": 3
   },
   "file_extension": ".py",
   "mimetype": "text/x-python",
   "name": "python",
   "nbconvert_exporter": "python",
   "pygments_lexer": "ipython3",
   "version": "3.5.5"
  }
 },
 "nbformat": 4,
 "nbformat_minor": 2
}
