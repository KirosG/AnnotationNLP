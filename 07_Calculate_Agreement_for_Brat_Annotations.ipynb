{
 "cells": [
  {
   "cell_type": "markdown",
   "metadata": {},
   "source": [
    "# Calculating Agreement for Brat annotations\n",
    "\n",
    "Now we have your annotations ready and have learned the agreement formulas, let's try some exercises to calculate the agreement betwee each other.\n",
    "\n",
    "Although the formulas are simple, efficiently getting the numbers in the contingency table is not trivial. We have provided an optimized function for you here (If you are interested how we implemented it, check [here](./compare_utils.py). ). Let's try it out.\n"
   ]
  },
  {
   "cell_type": "code",
   "execution_count": 1,
   "metadata": {},
   "outputs": [],
   "source": [
    "# import packages\n",
    "import os\n",
    "from compare_utils import compare_projects\n",
    "from IPython.display import HTML"
   ]
  },
  {
   "cell_type": "markdown",
   "metadata": {},
   "source": [
    "## 1. Initiate the directories\n",
    "\n",
    "First, we need to tell compare who against who. In Brat, annotations are saved in directories, thus the question is equivalent to compare which directory against which.\n",
    "\n",
    "If you are not sure what directories you should look for, check the list here:\n",
    "https://brat.jupyter.med.utah.edu/#/student_folders/"
   ]
  },
  {
   "cell_type": "code",
   "execution_count": 2,
   "metadata": {},
   "outputs": [],
   "source": [
    "# tell where is the projects located\n",
    "annotator_a='sample1'\n",
    "annotator_b='sample2'"
   ]
  },
  {
   "cell_type": "code",
   "execution_count": 3,
   "metadata": {},
   "outputs": [],
   "source": [
    "# convert the project name to real directory path\n",
    "\n",
    "brat_projects_loc=os.path.abspath('../../BRAT')\n",
    "annotator_a=os.path.join(brat_projects_loc, annotator_a)\n",
    "annotator_b=os.path.join(brat_projects_loc, annotator_b)\n",
    "\n",
    "# you could try to print annotator_a and annotator_b out to see where they are"
   ]
  },
  {
   "cell_type": "markdown",
   "metadata": {},
   "source": [
    "## 2. Strict comparison\n",
    "\n",
    "**compare_projects** is the function that we wrapped up the meat in. It takes in 2~3 paramters:\n",
    "1. Your directory \n",
    "2. The directory that you want to compare against\n",
    "3. compare method ('strict' or 'relax')\n",
    "\n",
    "It turns a dictionary of evaluators with annotation types as the key, an Evaluator as the value. The Evaluator class will contain all the numbers in the contingency table we need."
   ]
  },
  {
   "cell_type": "code",
   "execution_count": 4,
   "metadata": {},
   "outputs": [],
   "source": [
    "evaluators = compare_projects(annotator_a, annotator_b, 'strict')"
   ]
  },
  {
   "cell_type": "code",
   "execution_count": 5,
   "metadata": {},
   "outputs": [
    {
     "data": {
      "text/plain": [
       "{'DOCUMENT_PNEUMONIA_NO': <compare_utils.Evaluator at 0x7fd60bef9860>,\n",
       " 'DOCUMENT_PNEUMONIA_YES': <compare_utils.Evaluator at 0x7fd60bef9908>,\n",
       " 'SPAN_POSITIVE_PNEUMONIA_EVIDENCE': <compare_utils.Evaluator at 0x7fd60beece10>}"
      ]
     },
     "execution_count": 5,
     "metadata": {},
     "output_type": "execute_result"
    }
   ],
   "source": [
    "evaluators"
   ]
  },
  {
   "cell_type": "code",
   "execution_count": 6,
   "metadata": {},
   "outputs": [
    {
     "name": "stdout",
     "output_type": "stream",
     "text": [
      "SPAN_POSITIVE_PNEUMONIA_EVIDENCE\n",
      "1 3 2 None\n"
     ]
    },
    {
     "data": {
      "text/html": [
       "<div>\n",
       "<style scoped>\n",
       "    .dataframe tbody tr th:only-of-type {\n",
       "        vertical-align: middle;\n",
       "    }\n",
       "\n",
       "    .dataframe tbody tr th {\n",
       "        vertical-align: top;\n",
       "    }\n",
       "\n",
       "    .dataframe thead th {\n",
       "        text-align: right;\n",
       "    }\n",
       "</style>\n",
       "<table border=\"1\" class=\"dataframe\">\n",
       "  <thead>\n",
       "    <tr style=\"text-align: right;\">\n",
       "      <th></th>\n",
       "      <th>B+</th>\n",
       "      <th>B-</th>\n",
       "    </tr>\n",
       "  </thead>\n",
       "  <tbody>\n",
       "    <tr>\n",
       "      <th>A+</th>\n",
       "      <td>1</td>\n",
       "      <td>3.0</td>\n",
       "    </tr>\n",
       "    <tr>\n",
       "      <th>A-</th>\n",
       "      <td>2</td>\n",
       "      <td>NaN</td>\n",
       "    </tr>\n",
       "  </tbody>\n",
       "</table>\n",
       "</div>"
      ],
      "text/plain": [
       "    B+   B-\n",
       "A+   1  3.0\n",
       "A-   2  NaN"
      ]
     },
     "metadata": {},
     "output_type": "display_data"
    },
    {
     "name": "stdout",
     "output_type": "stream",
     "text": [
      "DOCUMENT_PNEUMONIA_YES\n",
      "0 1 1 None\n"
     ]
    },
    {
     "data": {
      "text/html": [
       "<div>\n",
       "<style scoped>\n",
       "    .dataframe tbody tr th:only-of-type {\n",
       "        vertical-align: middle;\n",
       "    }\n",
       "\n",
       "    .dataframe tbody tr th {\n",
       "        vertical-align: top;\n",
       "    }\n",
       "\n",
       "    .dataframe thead th {\n",
       "        text-align: right;\n",
       "    }\n",
       "</style>\n",
       "<table border=\"1\" class=\"dataframe\">\n",
       "  <thead>\n",
       "    <tr style=\"text-align: right;\">\n",
       "      <th></th>\n",
       "      <th>B+</th>\n",
       "      <th>B-</th>\n",
       "    </tr>\n",
       "  </thead>\n",
       "  <tbody>\n",
       "    <tr>\n",
       "      <th>A+</th>\n",
       "      <td>0</td>\n",
       "      <td>1.0</td>\n",
       "    </tr>\n",
       "    <tr>\n",
       "      <th>A-</th>\n",
       "      <td>1</td>\n",
       "      <td>NaN</td>\n",
       "    </tr>\n",
       "  </tbody>\n",
       "</table>\n",
       "</div>"
      ],
      "text/plain": [
       "    B+   B-\n",
       "A+   0  1.0\n",
       "A-   1  NaN"
      ]
     },
     "metadata": {},
     "output_type": "display_data"
    },
    {
     "name": "stdout",
     "output_type": "stream",
     "text": [
      "DOCUMENT_PNEUMONIA_NO\n",
      "2 0 0 None\n"
     ]
    },
    {
     "data": {
      "text/html": [
       "<div>\n",
       "<style scoped>\n",
       "    .dataframe tbody tr th:only-of-type {\n",
       "        vertical-align: middle;\n",
       "    }\n",
       "\n",
       "    .dataframe tbody tr th {\n",
       "        vertical-align: top;\n",
       "    }\n",
       "\n",
       "    .dataframe thead th {\n",
       "        text-align: right;\n",
       "    }\n",
       "</style>\n",
       "<table border=\"1\" class=\"dataframe\">\n",
       "  <thead>\n",
       "    <tr style=\"text-align: right;\">\n",
       "      <th></th>\n",
       "      <th>B+</th>\n",
       "      <th>B-</th>\n",
       "    </tr>\n",
       "  </thead>\n",
       "  <tbody>\n",
       "    <tr>\n",
       "      <th>A+</th>\n",
       "      <td>2</td>\n",
       "      <td>0.0</td>\n",
       "    </tr>\n",
       "    <tr>\n",
       "      <th>A-</th>\n",
       "      <td>0</td>\n",
       "      <td>NaN</td>\n",
       "    </tr>\n",
       "  </tbody>\n",
       "</table>\n",
       "</div>"
      ],
      "text/plain": [
       "    B+   B-\n",
       "A+   2  0.0\n",
       "A-   0  NaN"
      ]
     },
     "metadata": {},
     "output_type": "display_data"
    }
   ],
   "source": [
    "for type_name, evaluator in evaluators.items():\n",
    "    print(type_name)\n",
    "    a,b,c,d=evaluator.get_values()\n",
    "#   now you can print these numbers\n",
    "    print(a,b,c,d)\n",
    "#   or display in a contingency table\n",
    "    display(evaluator.display_values())"
   ]
  },
  {
   "cell_type": "markdown",
   "metadata": {},
   "source": [
    "## 3. Relaxed comparsion\n",
    "When comparin mention level annotations, it is more useful to use relaxed comparision -- consider a match if an annotation of annotator A overlaps with the annotator B's. For instance, \"Left lower lobe pneumonia\" vs \"pneumonia\"."
   ]
  },
  {
   "cell_type": "code",
   "execution_count": 7,
   "metadata": {},
   "outputs": [],
   "source": [
    "# the code is very similar to the above\n",
    "evaluators = compare_projects(annotator_a, annotator_b, 'relax')"
   ]
  },
  {
   "cell_type": "code",
   "execution_count": 8,
   "metadata": {},
   "outputs": [
    {
     "name": "stdout",
     "output_type": "stream",
     "text": [
      "SPAN_POSITIVE_PNEUMONIA_EVIDENCE\n",
      "2 2 1 None\n"
     ]
    },
    {
     "data": {
      "text/html": [
       "<div>\n",
       "<style scoped>\n",
       "    .dataframe tbody tr th:only-of-type {\n",
       "        vertical-align: middle;\n",
       "    }\n",
       "\n",
       "    .dataframe tbody tr th {\n",
       "        vertical-align: top;\n",
       "    }\n",
       "\n",
       "    .dataframe thead th {\n",
       "        text-align: right;\n",
       "    }\n",
       "</style>\n",
       "<table border=\"1\" class=\"dataframe\">\n",
       "  <thead>\n",
       "    <tr style=\"text-align: right;\">\n",
       "      <th></th>\n",
       "      <th>B+</th>\n",
       "      <th>B-</th>\n",
       "    </tr>\n",
       "  </thead>\n",
       "  <tbody>\n",
       "    <tr>\n",
       "      <th>A+</th>\n",
       "      <td>2</td>\n",
       "      <td>2.0</td>\n",
       "    </tr>\n",
       "    <tr>\n",
       "      <th>A-</th>\n",
       "      <td>1</td>\n",
       "      <td>NaN</td>\n",
       "    </tr>\n",
       "  </tbody>\n",
       "</table>\n",
       "</div>"
      ],
      "text/plain": [
       "    B+   B-\n",
       "A+   2  2.0\n",
       "A-   1  NaN"
      ]
     },
     "metadata": {},
     "output_type": "display_data"
    },
    {
     "name": "stdout",
     "output_type": "stream",
     "text": [
      "DOCUMENT_PNEUMONIA_YES\n",
      "0 1 1 None\n"
     ]
    },
    {
     "data": {
      "text/html": [
       "<div>\n",
       "<style scoped>\n",
       "    .dataframe tbody tr th:only-of-type {\n",
       "        vertical-align: middle;\n",
       "    }\n",
       "\n",
       "    .dataframe tbody tr th {\n",
       "        vertical-align: top;\n",
       "    }\n",
       "\n",
       "    .dataframe thead th {\n",
       "        text-align: right;\n",
       "    }\n",
       "</style>\n",
       "<table border=\"1\" class=\"dataframe\">\n",
       "  <thead>\n",
       "    <tr style=\"text-align: right;\">\n",
       "      <th></th>\n",
       "      <th>B+</th>\n",
       "      <th>B-</th>\n",
       "    </tr>\n",
       "  </thead>\n",
       "  <tbody>\n",
       "    <tr>\n",
       "      <th>A+</th>\n",
       "      <td>0</td>\n",
       "      <td>1.0</td>\n",
       "    </tr>\n",
       "    <tr>\n",
       "      <th>A-</th>\n",
       "      <td>1</td>\n",
       "      <td>NaN</td>\n",
       "    </tr>\n",
       "  </tbody>\n",
       "</table>\n",
       "</div>"
      ],
      "text/plain": [
       "    B+   B-\n",
       "A+   0  1.0\n",
       "A-   1  NaN"
      ]
     },
     "metadata": {},
     "output_type": "display_data"
    },
    {
     "name": "stdout",
     "output_type": "stream",
     "text": [
      "DOCUMENT_PNEUMONIA_NO\n",
      "2 0 0 None\n"
     ]
    },
    {
     "data": {
      "text/html": [
       "<div>\n",
       "<style scoped>\n",
       "    .dataframe tbody tr th:only-of-type {\n",
       "        vertical-align: middle;\n",
       "    }\n",
       "\n",
       "    .dataframe tbody tr th {\n",
       "        vertical-align: top;\n",
       "    }\n",
       "\n",
       "    .dataframe thead th {\n",
       "        text-align: right;\n",
       "    }\n",
       "</style>\n",
       "<table border=\"1\" class=\"dataframe\">\n",
       "  <thead>\n",
       "    <tr style=\"text-align: right;\">\n",
       "      <th></th>\n",
       "      <th>B+</th>\n",
       "      <th>B-</th>\n",
       "    </tr>\n",
       "  </thead>\n",
       "  <tbody>\n",
       "    <tr>\n",
       "      <th>A+</th>\n",
       "      <td>2</td>\n",
       "      <td>0.0</td>\n",
       "    </tr>\n",
       "    <tr>\n",
       "      <th>A-</th>\n",
       "      <td>0</td>\n",
       "      <td>NaN</td>\n",
       "    </tr>\n",
       "  </tbody>\n",
       "</table>\n",
       "</div>"
      ],
      "text/plain": [
       "    B+   B-\n",
       "A+   2  0.0\n",
       "A-   0  NaN"
      ]
     },
     "metadata": {},
     "output_type": "display_data"
    }
   ],
   "source": [
    "for type_name, evaluator in evaluators.items():\n",
    "    print(type_name)\n",
    "    a,b,c,d=evaluator.get_values()\n",
    "#   now you can print these numbers\n",
    "    print(a,b,c,d)\n",
    "#   or display in a contingency table\n",
    "    display(evaluator.display_values())"
   ]
  },
  {
   "cell_type": "markdown",
   "metadata": {},
   "source": [
    "## 4. Show the disagreement\n",
    "\n",
    "Now we are wondering where are the disagreement annotations. Evaluator saved that information as well. Let's try to display them."
   ]
  },
  {
   "cell_type": "markdown",
   "metadata": {},
   "source": [
    "### 4.1 Show the annotations in annotator_a, but not annotator_b (false positive)"
   ]
  },
  {
   "cell_type": "code",
   "execution_count": 11,
   "metadata": {},
   "outputs": [],
   "source": [
    "def snippets_markup(annotated_doc_map, display_types={'SPAN_POSITIVE_PNEUMONIA_EVIDENCE'}, width=900, height=400):\n",
    "\tif len(annotated_doc_map) == 0:\n",
    "\t\tprint('No documents to display.')\n",
    "\t\treturn\n",
    "\tdiv_config1 = '<div style=\"background-color:#f9f9f9;padding-left:10px;' \\\n",
    "\t\t\t\t  'width: ' + str(width - 23) + 'px; \">'\n",
    "\tdiv_config2 = '<div style=\"background-color:#f9f9f9;padding:10px; ' \\\n",
    "\t\t\t\t  'width: ' + str(width) + 'px; height: ' + str(height) + 'px; overflow-y: scroll;\">'\n",
    "\thtml = [\"<html>\", div_config1, \"<table width=100% >\",\n",
    "\t\t\t\"<col style=\\\"width:25%\\\"><col style=\\\"width:75%\\\">\", \"</div>\",\n",
    "\t\t\t\"<tr><th style=\\\"text-align:center\\\">document name</th><th style=\\\"text-align:center\\\">Snippets</th></table></div>\",\n",
    "\t\t\tdiv_config2,\n",
    "\t\t\t\"<table width=100% ><col style=\\\"width:25%\\\"><col style=\\\"width:75%\\\">\"]\n",
    "\tfor doc_name, anno_doc in annotated_doc_map.items():\n",
    "\t\thtml.extend(snippet_markup(doc_name, anno_doc, display_types))\n",
    "\thtml.append(\"</table></div>\")\n",
    "\thtml.append(\"</html>\")\n",
    "\treturn ''.join(html)\n",
    "def snippet_markup(doc_name, annotations):\n",
    "\tfrom pyConTextNLP.display.html import __insert_color\n",
    "\thtml = []\n",
    "\tcolor = 'blue'\n",
    "\twindow_size = 50\n",
    "\thtml.append(\"<tr>\")\n",
    "\thtml.append(\"<td style=\\\"text-align:left\\\">{0}</td>\".format(doc_name))\n",
    "\thtml.append(\"<td></td>\")\n",
    "\thtml.append(\"</tr>\")\n",
    "\tfor anno in annotations:\n",
    "\t\tif anno.type in display_types:\n",
    "\t\t\t#           make sure the our snippet will be cut inside the text boundary\n",
    "\t\t\tbegin = anno.start_index - window_size\n",
    "\t\t\tend = anno.end_index + window_size\n",
    "\t\t\tbegin = begin if begin > 0 else 0\n",
    "\t\t\tend = end if end < len(anno_doc.text) else len(anno_doc.text)\n",
    "\t\t\t#           render a highlighted snippet\n",
    "\t\t\tcell = __insert_color(anno_doc.text[begin:end], [anno.start_index - begin, anno.end_index - end], color)\n",
    "\t\t\t#           add the snippet into table\n",
    "\t\t\thtml.append(\"<tr>\")\n",
    "\t\t\thtml.append(\"<td></td>\")\n",
    "\t\t\thtml.append(\"<td style=\\\"text-align:left\\\">{0}</td>\".format(cell))\n",
    "\t\t\thtml.append(\"</tr>\")\n",
    "\treturn html"
   ]
  },
  {
   "cell_type": "code",
   "execution_count": 15,
   "metadata": {},
   "outputs": [
    {
     "name": "stdout",
     "output_type": "stream",
     "text": [
      "SPAN_POSITIVE_PNEUMONIA_EVIDENCE\n",
      "OrderedDict([('subject_id_148_hadm_id_27941', [<nlp_pneumonia_utils.Annotation object at 0x7fd60bef9f98>]), ('subject_id_105_hadm_id_27261', [<nlp_pneumonia_utils.Annotation object at 0x7fd60bef9dd8>])])\n",
      "DOCUMENT_PNEUMONIA_YES\n",
      "OrderedDict([('subject_id_148_hadm_id_27941', [<nlp_pneumonia_utils.Annotation object at 0x7fd60bef9400>])])\n",
      "DOCUMENT_PNEUMONIA_NO\n",
      "OrderedDict()\n"
     ]
    }
   ],
   "source": [
    "for type_name, evaluator in evaluators.items():\n",
    "    print(type_name)\n",
    "    fps=evaluator.get_fps()\n",
    "    print(fps)"
   ]
  },
  {
   "cell_type": "code",
   "execution_count": null,
   "metadata": {},
   "outputs": [],
   "source": []
  }
 ],
 "metadata": {
  "kernelspec": {
   "display_name": "Python 3",
   "language": "python",
   "name": "python3"
  },
  "language_info": {
   "codemirror_mode": {
    "name": "ipython",
    "version": 3
   },
   "file_extension": ".py",
   "mimetype": "text/x-python",
   "name": "python",
   "nbconvert_exporter": "python",
   "pygments_lexer": "ipython3",
   "version": "3.5.5"
  }
 },
 "nbformat": 4,
 "nbformat_minor": 2
}
